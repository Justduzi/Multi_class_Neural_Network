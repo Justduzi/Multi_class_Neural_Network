{
  "nbformat": 4,
  "nbformat_minor": 0,
  "metadata": {
    "colab": {
      "name": "Neural_Network_Multi_Classification.ipynb",
      "provenance": [],
      "collapsed_sections": [],
      "authorship_tag": "ABX9TyNs+5YO/EYpObB7dWJr+/Mi",
      "include_colab_link": true
    },
    "kernelspec": {
      "name": "python3",
      "display_name": "Python 3"
    },
    "language_info": {
      "name": "python"
    }
  },
  "cells": [
    {
      "cell_type": "markdown",
      "metadata": {
        "id": "view-in-github",
        "colab_type": "text"
      },
      "source": [
        "<a href=\"https://colab.research.google.com/github/Justduzi/Multi_class_Neural_Network/blob/main/Neural_Network_Multi_Classification.ipynb\" target=\"_parent\"><img src=\"https://colab.research.google.com/assets/colab-badge.svg\" alt=\"Open In Colab\"/></a>"
      ]
    },
    {
      "cell_type": "markdown",
      "source": [
        "##Building a neural network to classify images of different clothing items"
      ],
      "metadata": {
        "id": "bAP22EtEse66"
      }
    },
    {
      "cell_type": "code",
      "source": [
        "import tensorflow as tf\n",
        "from tensorflow.keras.datasets import fashion_mnist\n",
        "\n",
        "(train_images, train_labels), (test_images, test_labels) = fashion_mnist.load_data()"
      ],
      "metadata": {
        "id": "ha1J_ZqUtGO_"
      },
      "execution_count": 23,
      "outputs": []
    },
    {
      "cell_type": "code",
      "source": [
        "#check shape\n",
        "train_images[0].shape, train_labels[0].shape"
      ],
      "metadata": {
        "colab": {
          "base_uri": "https://localhost:8080/"
        },
        "id": "SL8QIH2dtblx",
        "outputId": "19babef5-b94b-4f7f-853a-5074d0a11843"
      },
      "execution_count": 2,
      "outputs": [
        {
          "output_type": "execute_result",
          "data": {
            "text/plain": [
              "((28, 28), ())"
            ]
          },
          "metadata": {},
          "execution_count": 2
        }
      ]
    },
    {
      "cell_type": "code",
      "source": [
        "class_names = [\"T-shirt/Top\",\"Trouser\", \"Pullover\",\" Dress\", \"Coat\", \"sandal\",\"Shirt\",\"Sneaker\", \"Bag\",\"Ankle Boot\"]"
      ],
      "metadata": {
        "id": "8Q3eqFIAyJv7"
      },
      "execution_count": 3,
      "outputs": []
    },
    {
      "cell_type": "markdown",
      "source": [
        "Four Multi-class we are  using a similar architechture tobinary classification buy itha few tweaks\n",
        "* Input shape = 28 x 28\n",
        "* Output shape= 10(one per class of clothing)\n",
        "* Loss function CategorialCrossentropy() for one hot enocoded labels = tf.one_hot(y_train , depth=size)\n",
        "* Loss Function SparseCategoricalCrossentropy for integers\n",
        "* Output Layer activation = Softmax\n",
        "* data needs to be flattened= tf.keras.layers.Flatten(input_shape=())\n"
      ],
      "metadata": {
        "id": "kZijgCs-2CKQ"
      }
    },
    {
      "cell_type": "code",
      "source": [
        "#Building Multiclass Neural Network\n",
        "\n",
        "#create random seed\n",
        "tf.random.set_seed(42)\n",
        "\n",
        "#Create model\n",
        "model_1 = tf.keras.Sequential([\n",
        "    tf.keras.layers.Flatten(input_shape=(28,28)),\n",
        "    tf.keras.layers.Dense(4, activation=\"relu\"),\n",
        "    tf.keras.layers.Dense(4, activation=\"relu\"),\n",
        "    tf.keras.layers.Dense(10, activation = tf.keras.activations.softmax)\n",
        "])\n",
        "#Compile model\n",
        "model_1.compile(loss=tf.keras.losses.SparseCategoricalCrossentropy(),\n",
        "                optimizer = tf.keras.optimizers.Adam(),\n",
        "                metrics=[\"accuracy\"])\n",
        "#Fit\n",
        "non_norm_history = model_1.fit(train_images, train_labels, epochs=10, validation_data=(test_images,test_labels) )"
      ],
      "metadata": {
        "colab": {
          "base_uri": "https://localhost:8080/"
        },
        "id": "D1XJc7zH0Yzp",
        "outputId": "ce044803-be1b-4a00-8370-93c0261b1194"
      },
      "execution_count": 4,
      "outputs": [
        {
          "output_type": "stream",
          "name": "stdout",
          "text": [
            "Epoch 1/10\n",
            "1875/1875 [==============================] - 5s 2ms/step - loss: 2.1671 - accuracy: 0.1606 - val_loss: 1.7959 - val_accuracy: 0.2046\n",
            "Epoch 2/10\n",
            "1875/1875 [==============================] - 4s 2ms/step - loss: 1.7066 - accuracy: 0.2509 - val_loss: 1.6567 - val_accuracy: 0.2805\n",
            "Epoch 3/10\n",
            "1875/1875 [==============================] - 4s 2ms/step - loss: 1.6321 - accuracy: 0.2806 - val_loss: 1.6094 - val_accuracy: 0.2857\n",
            "Epoch 4/10\n",
            "1875/1875 [==============================] - 4s 2ms/step - loss: 1.6052 - accuracy: 0.2833 - val_loss: 1.6041 - val_accuracy: 0.2859\n",
            "Epoch 5/10\n",
            "1875/1875 [==============================] - 4s 2ms/step - loss: 1.5975 - accuracy: 0.2862 - val_loss: 1.6064 - val_accuracy: 0.2756\n",
            "Epoch 6/10\n",
            "1875/1875 [==============================] - 4s 2ms/step - loss: 1.5950 - accuracy: 0.2920 - val_loss: 1.5747 - val_accuracy: 0.2994\n",
            "Epoch 7/10\n",
            "1875/1875 [==============================] - 4s 2ms/step - loss: 1.5775 - accuracy: 0.3040 - val_loss: 1.6030 - val_accuracy: 0.3000\n",
            "Epoch 8/10\n",
            "1875/1875 [==============================] - 4s 2ms/step - loss: 1.5708 - accuracy: 0.3175 - val_loss: 1.5635 - val_accuracy: 0.3315\n",
            "Epoch 9/10\n",
            "1875/1875 [==============================] - 5s 3ms/step - loss: 1.5638 - accuracy: 0.3280 - val_loss: 1.5534 - val_accuracy: 0.3334\n",
            "Epoch 10/10\n",
            "1875/1875 [==============================] - 5s 3ms/step - loss: 1.5432 - accuracy: 0.3346 - val_loss: 1.5390 - val_accuracy: 0.3549\n"
          ]
        }
      ]
    },
    {
      "cell_type": "markdown",
      "source": [
        "Neural Networks prefer data to be scaled (or normalised) making the between 0 & 1"
      ],
      "metadata": {
        "id": "UhbQMZqR9Q9S"
      }
    },
    {
      "cell_type": "code",
      "source": [
        "train_images.min(), train_images.max()"
      ],
      "metadata": {
        "colab": {
          "base_uri": "https://localhost:8080/"
        },
        "id": "reV9GTOi9mUL",
        "outputId": "4e458dd4-e673-4dce-88ac-b1cbfc48df3a"
      },
      "execution_count": 10,
      "outputs": [
        {
          "output_type": "execute_result",
          "data": {
            "text/plain": [
              "(0, 255)"
            ]
          },
          "metadata": {},
          "execution_count": 10
        }
      ]
    },
    {
      "cell_type": "code",
      "source": [
        "train_images_norm = train_images / 255.0\n",
        "test_images_norm = test_images / 255.0"
      ],
      "metadata": {
        "id": "IYvw-Brw_dN8"
      },
      "execution_count": 24,
      "outputs": []
    },
    {
      "cell_type": "code",
      "source": [
        "#build NN with normalised data\n",
        "\n",
        "#Create random seed\n",
        "tf.random.set_seed(42)\n",
        "\n",
        "#Create model\n",
        "model_2 = tf.keras.Sequential([\n",
        "    tf.keras.layers.Flatten(input_shape=(28,28)),\n",
        "    tf.keras.layers.Dense(4, activation=\"relu\"),\n",
        "    tf.keras.layers.Dense(4, activation=\"relu\"),\n",
        "    tf.keras.layers.Dense(10, activation=\"softmax\")\n",
        "])\n",
        "\n",
        "#Compile model\n",
        "model_2.compile(loss=\"SparseCategoricalCrossentropy\",\n",
        "                optimizer=\"Adam\",\n",
        "                metrics=[\"accuracy\"])\n",
        "\n",
        "#fit\n",
        "history_norm = model_2.fit(train_images_norm, train_labels,epochs=10, validation_data=(test_images_norm,test_labels))"
      ],
      "metadata": {
        "colab": {
          "base_uri": "https://localhost:8080/"
        },
        "id": "vrJj9am__syy",
        "outputId": "ff21716d-c19b-4f71-cd31-1339ad0964d1"
      },
      "execution_count": 12,
      "outputs": [
        {
          "output_type": "stream",
          "name": "stdout",
          "text": [
            "Epoch 1/10\n",
            "1875/1875 [==============================] - 5s 2ms/step - loss: 1.0348 - accuracy: 0.6474 - val_loss: 0.6937 - val_accuracy: 0.7617\n",
            "Epoch 2/10\n",
            "1875/1875 [==============================] - 4s 2ms/step - loss: 0.6376 - accuracy: 0.7757 - val_loss: 0.6400 - val_accuracy: 0.7820\n",
            "Epoch 3/10\n",
            "1875/1875 [==============================] - 4s 2ms/step - loss: 0.5942 - accuracy: 0.7914 - val_loss: 0.6247 - val_accuracy: 0.7783\n",
            "Epoch 4/10\n",
            "1875/1875 [==============================] - 4s 2ms/step - loss: 0.5750 - accuracy: 0.7979 - val_loss: 0.6078 - val_accuracy: 0.7881\n",
            "Epoch 5/10\n",
            "1875/1875 [==============================] - 4s 2ms/step - loss: 0.5641 - accuracy: 0.8006 - val_loss: 0.6169 - val_accuracy: 0.7881\n",
            "Epoch 6/10\n",
            "1875/1875 [==============================] - 4s 2ms/step - loss: 0.5544 - accuracy: 0.8043 - val_loss: 0.5855 - val_accuracy: 0.7951\n",
            "Epoch 7/10\n",
            "1875/1875 [==============================] - 4s 2ms/step - loss: 0.5488 - accuracy: 0.8063 - val_loss: 0.6097 - val_accuracy: 0.7836\n",
            "Epoch 8/10\n",
            "1875/1875 [==============================] - 4s 2ms/step - loss: 0.5428 - accuracy: 0.8077 - val_loss: 0.5787 - val_accuracy: 0.7971\n",
            "Epoch 9/10\n",
            "1875/1875 [==============================] - 5s 2ms/step - loss: 0.5373 - accuracy: 0.8097 - val_loss: 0.5698 - val_accuracy: 0.7977\n",
            "Epoch 10/10\n",
            "1875/1875 [==============================] - 4s 2ms/step - loss: 0.5360 - accuracy: 0.8124 - val_loss: 0.5658 - val_accuracy: 0.8014\n"
          ]
        }
      ]
    },
    {
      "cell_type": "code",
      "source": [
        "import pandas as pd\n"
      ],
      "metadata": {
        "id": "MWnu1n49Df30"
      },
      "execution_count": 13,
      "outputs": []
    },
    {
      "cell_type": "code",
      "source": [
        "pd.DataFrame(non_norm_history.history).plot(title=\"Non-Normalized data\")\n",
        "pd.DataFrame(history_norm.history).plot(title=\"Normalized data\")"
      ],
      "metadata": {
        "colab": {
          "base_uri": "https://localhost:8080/",
          "height": 562
        },
        "id": "vl1D728JDj8b",
        "outputId": "4fa5d2f6-be0e-436e-d2d7-63eb63eb20e7"
      },
      "execution_count": 14,
      "outputs": [
        {
          "output_type": "execute_result",
          "data": {
            "text/plain": [
              "<matplotlib.axes._subplots.AxesSubplot at 0x7fb31a838150>"
            ]
          },
          "metadata": {},
          "execution_count": 14
        },
        {
          "output_type": "display_data",
          "data": {
            "text/plain": [
              "<Figure size 432x288 with 1 Axes>"
            ],
            "image/png": "[encoded data removed]"
          },
          "metadata": {
            "needs_background": "light"
          }
        },
        {
          "output_type": "display_data",
          "data": {
            "text/plain": [
              "<Figure size 432x288 with 1 Axes>"
            ],
            "image/png": "[encoded data removed]"
          },
          "metadata": {
            "needs_background": "light"
          }
        }
      ]
    },
    {
      "cell_type": "markdown",
      "source": [
        "When comparing results Normalised data produces better results."
      ],
      "metadata": {
        "id": "6iyrSAj3ECyi"
      }
    },
    {
      "cell_type": "code",
      "source": [
        "#Find ideal learning rate\n",
        "\n",
        "\n",
        "#Create random seed\n",
        "tf.random.set_seed(42)\n",
        "\n",
        "#Create model\n",
        "model_3 = tf.keras.Sequential([\n",
        "    tf.keras.layers.Flatten(input_shape=(28,28)),\n",
        "    tf.keras.layers.Dense(4, activation=\"relu\"),\n",
        "    tf.keras.layers.Dense(4, activation=\"relu\"),\n",
        "    tf.keras.layers.Dense(10, activation=\"softmax\")\n",
        "])\n",
        "\n",
        "#Compile model\n",
        "model_3.compile(loss=\"SparseCategoricalCrossentropy\",\n",
        "                optimizer=tf.keras.optimizers.Adam(),\n",
        "                metrics=[\"accuracy\"])\n",
        "#create learning rate callback\n",
        "lr_scheduler = tf.keras.callbacks.LearningRateScheduler(lambda epoch: 1e3 * 10 **(epoch/20))\n",
        "\n",
        "#fit\n",
        "lr_history = model_3.fit(train_images_norm, train_labels,epochs=40, validation_data=(test_images_norm,test_labels),callbacks=[lr_scheduler])"
      ],
      "metadata": {
        "colab": {
          "base_uri": "https://localhost:8080/"
        },
        "id": "oB50yp2OEb3p",
        "outputId": "132af034-98eb-48e7-e210-c5448ba3cdcd"
      },
      "execution_count": 17,
      "outputs": [
        {
          "output_type": "stream",
          "name": "stdout",
          "text": [
            "Epoch 1/40\n",
            "1875/1875 [==============================] - 5s 2ms/step - loss: 1318822.0000 - accuracy: 0.1007 - val_loss: 477.0197 - val_accuracy: 0.1000 - lr: 1000.0000\n",
            "Epoch 2/40\n",
            "1875/1875 [==============================] - 4s 2ms/step - loss: 698.5165 - accuracy: 0.0985 - val_loss: 486.3177 - val_accuracy: 0.1000 - lr: 1122.0184\n",
            "Epoch 3/40\n",
            "1875/1875 [==============================] - 4s 2ms/step - loss: 802.3875 - accuracy: 0.0977 - val_loss: 818.8620 - val_accuracy: 0.1000 - lr: 1258.9254\n",
            "Epoch 4/40\n",
            "1875/1875 [==============================] - 4s 2ms/step - loss: 867.4572 - accuracy: 0.0999 - val_loss: 777.7833 - val_accuracy: 0.1000 - lr: 1412.5376\n",
            "Epoch 5/40\n",
            "1875/1875 [==============================] - 4s 2ms/step - loss: 973.1163 - accuracy: 0.1023 - val_loss: 934.6040 - val_accuracy: 0.1000 - lr: 1584.8932\n",
            "Epoch 6/40\n",
            "1875/1875 [==============================] - 4s 2ms/step - loss: 1096.5759 - accuracy: 0.0985 - val_loss: 953.8010 - val_accuracy: 0.1000 - lr: 1778.2794\n",
            "Epoch 7/40\n",
            "1875/1875 [==============================] - 4s 2ms/step - loss: 1203.0331 - accuracy: 0.1035 - val_loss: 1523.2023 - val_accuracy: 0.1000 - lr: 1995.2623\n",
            "Epoch 8/40\n",
            "1875/1875 [==============================] - 4s 2ms/step - loss: 1421.4767 - accuracy: 0.0992 - val_loss: 1562.7245 - val_accuracy: 0.1000 - lr: 2238.7212\n",
            "Epoch 9/40\n",
            "1875/1875 [==============================] - 4s 2ms/step - loss: 1580.2084 - accuracy: 0.0996 - val_loss: 1375.9703 - val_accuracy: 0.1000 - lr: 2511.8865\n",
            "Epoch 10/40\n",
            "1875/1875 [==============================] - 7s 4ms/step - loss: 1806.1671 - accuracy: 0.0991 - val_loss: 1931.1820 - val_accuracy: 0.1000 - lr: 2818.3828\n",
            "Epoch 11/40\n",
            "1875/1875 [==============================] - 8s 4ms/step - loss: 1984.2360 - accuracy: 0.0974 - val_loss: 3963.4272 - val_accuracy: 0.1000 - lr: 3162.2776\n",
            "Epoch 12/40\n",
            "1875/1875 [==============================] - 7s 4ms/step - loss: 2096.1465 - accuracy: 0.1001 - val_loss: 2696.5132 - val_accuracy: 0.1000 - lr: 3548.1338\n",
            "Epoch 13/40\n",
            "1875/1875 [==============================] - 6s 3ms/step - loss: 2441.8342 - accuracy: 0.0994 - val_loss: 2478.0300 - val_accuracy: 0.1000 - lr: 3981.0718\n",
            "Epoch 14/40\n",
            "1875/1875 [==============================] - 6s 3ms/step - loss: 2828.0071 - accuracy: 0.1010 - val_loss: 2835.7646 - val_accuracy: 0.1000 - lr: 4466.8359\n",
            "Epoch 15/40\n",
            "1875/1875 [==============================] - 5s 3ms/step - loss: 3155.7449 - accuracy: 0.1011 - val_loss: 3237.6445 - val_accuracy: 0.1000 - lr: 5011.8726\n",
            "Epoch 16/40\n",
            "1875/1875 [==============================] - 7s 4ms/step - loss: 3572.8127 - accuracy: 0.1008 - val_loss: 3842.1621 - val_accuracy: 0.1000 - lr: 5623.4131\n",
            "Epoch 17/40\n",
            "1875/1875 [==============================] - 7s 4ms/step - loss: 3781.4417 - accuracy: 0.1008 - val_loss: 4812.2266 - val_accuracy: 0.1000 - lr: 6309.5732\n",
            "Epoch 18/40\n",
            "1875/1875 [==============================] - 8s 4ms/step - loss: 4235.3496 - accuracy: 0.1011 - val_loss: 4004.1775 - val_accuracy: 0.1000 - lr: 7079.4580\n",
            "Epoch 19/40\n",
            "1875/1875 [==============================] - 7s 4ms/step - loss: 4885.0249 - accuracy: 0.1005 - val_loss: 5229.6353 - val_accuracy: 0.1000 - lr: 7943.2822\n",
            "Epoch 20/40\n",
            "1875/1875 [==============================] - 7s 4ms/step - loss: 5798.4448 - accuracy: 0.1001 - val_loss: 6795.1162 - val_accuracy: 0.1000 - lr: 8912.5098\n",
            "Epoch 21/40\n",
            "1875/1875 [==============================] - 8s 4ms/step - loss: 6356.0713 - accuracy: 0.1002 - val_loss: 6922.8682 - val_accuracy: 0.1000 - lr: 10000.0000\n",
            "Epoch 22/40\n",
            "1875/1875 [==============================] - 6s 3ms/step - loss: 6869.4082 - accuracy: 0.1018 - val_loss: 5856.2651 - val_accuracy: 0.1000 - lr: 11220.1846\n",
            "Epoch 23/40\n",
            "1875/1875 [==============================] - 6s 3ms/step - loss: 7761.3364 - accuracy: 0.0976 - val_loss: 5798.5391 - val_accuracy: 0.1000 - lr: 12589.2539\n",
            "Epoch 24/40\n",
            "1875/1875 [==============================] - 8s 4ms/step - loss: 8868.3760 - accuracy: 0.0991 - val_loss: 7248.2905 - val_accuracy: 0.1000 - lr: 14125.3750\n",
            "Epoch 25/40\n",
            "1875/1875 [==============================] - 7s 4ms/step - loss: 9761.0361 - accuracy: 0.1002 - val_loss: 6217.1147 - val_accuracy: 0.1000 - lr: 15848.9316\n",
            "Epoch 26/40\n",
            "1875/1875 [==============================] - 7s 4ms/step - loss: 11320.7285 - accuracy: 0.1001 - val_loss: 8427.5098 - val_accuracy: 0.1000 - lr: 17782.7949\n",
            "Epoch 27/40\n",
            "1875/1875 [==============================] - 7s 4ms/step - loss: 12958.5234 - accuracy: 0.0980 - val_loss: 11454.6523 - val_accuracy: 0.1000 - lr: 19952.6230\n",
            "Epoch 28/40\n",
            "1875/1875 [==============================] - 6s 3ms/step - loss: 13497.3877 - accuracy: 0.0998 - val_loss: 7416.0991 - val_accuracy: 0.1000 - lr: 22387.2109\n",
            "Epoch 29/40\n",
            "1875/1875 [==============================] - 6s 3ms/step - loss: 15731.4404 - accuracy: 0.0991 - val_loss: 10211.2188 - val_accuracy: 0.1000 - lr: 25118.8652\n",
            "Epoch 30/40\n",
            "1875/1875 [==============================] - 6s 3ms/step - loss: 17267.1953 - accuracy: 0.1029 - val_loss: 13189.4443 - val_accuracy: 0.1000 - lr: 28183.8301\n",
            "Epoch 31/40\n",
            "1875/1875 [==============================] - 6s 3ms/step - loss: 20118.0879 - accuracy: 0.1001 - val_loss: 27157.4746 - val_accuracy: 0.1000 - lr: 31622.7773\n",
            "Epoch 32/40\n",
            "1875/1875 [==============================] - 9s 5ms/step - loss: 22942.5957 - accuracy: 0.1004 - val_loss: 36727.3281 - val_accuracy: 0.1000 - lr: 35481.3398\n",
            "Epoch 33/40\n",
            "1875/1875 [==============================] - 8s 4ms/step - loss: 24443.4492 - accuracy: 0.1009 - val_loss: 27947.7051 - val_accuracy: 0.1000 - lr: 39810.7188\n",
            "Epoch 34/40\n",
            "1875/1875 [==============================] - 7s 4ms/step - loss: 27931.2910 - accuracy: 0.0992 - val_loss: 30904.3145 - val_accuracy: 0.1000 - lr: 44668.3594\n",
            "Epoch 35/40\n",
            "1875/1875 [==============================] - 9s 5ms/step - loss: 30772.8594 - accuracy: 0.0993 - val_loss: 30457.8945 - val_accuracy: 0.1000 - lr: 50118.7227\n",
            "Epoch 36/40\n",
            "1875/1875 [==============================] - 8s 4ms/step - loss: 35445.7305 - accuracy: 0.0987 - val_loss: 48261.2773 - val_accuracy: 0.1000 - lr: 56234.1328\n",
            "Epoch 37/40\n",
            "1875/1875 [==============================] - 5s 2ms/step - loss: 40551.2734 - accuracy: 0.1006 - val_loss: 45059.3164 - val_accuracy: 0.1000 - lr: 63095.7344\n",
            "Epoch 38/40\n",
            "1875/1875 [==============================] - 4s 2ms/step - loss: 43600.3867 - accuracy: 0.1020 - val_loss: 64950.0938 - val_accuracy: 0.1000 - lr: 70794.5781\n",
            "Epoch 39/40\n",
            "1875/1875 [==============================] - 5s 2ms/step - loss: 50985.5547 - accuracy: 0.1004 - val_loss: 53748.2891 - val_accuracy: 0.1000 - lr: 79432.8203\n",
            "Epoch 40/40\n",
            "1875/1875 [==============================] - 5s 2ms/step - loss: 57641.8828 - accuracy: 0.1005 - val_loss: 50344.0469 - val_accuracy: 0.1000 - lr: 89125.0938\n"
          ]
        }
      ]
    },
    {
      "cell_type": "code",
      "source": [
        "import numpy as np\n",
        "import matplotlib.pyplot as plt\n",
        "\n",
        "lrs = 1e-3 * (10**(tf.range(40)/20))\n",
        "plt.semilogx(lrs, lr_history.history[\"loss\"])\n",
        "plt.xlabel(\"Loss\")\n",
        "plt.title(\"Finding the ideal learning rate\")\n"
      ],
      "metadata": {
        "colab": {
          "base_uri": "https://localhost:8080/",
          "height": 311
        },
        "id": "KgQZX_6IFJmd",
        "outputId": "2d4c6a41-7bf9-4f7e-d008-a1d0be37ca81"
      },
      "execution_count": 16,
      "outputs": [
        {
          "output_type": "execute_result",
          "data": {
            "text/plain": [
              "Text(0, 0.5, 'Finding the ideal learning rate')"
            ]
          },
          "metadata": {},
          "execution_count": 16
        },
        {
          "output_type": "display_data",
          "data": {
            "text/plain": [
              "<Figure size 432x288 with 1 Axes>"
            ],
            "image/png": "[encoded data removed]"
          },
          "metadata": {
            "needs_background": "light"
          }
        }
      ]
    },
    {
      "cell_type": "code",
      "source": [
        "#Set random seed \n",
        "tf.random.set_seed(42)\n",
        "\n",
        "#create model\n",
        "model_4 = tf.keras.Sequential([\n",
        "    tf.keras.layers.Flatten(input_shape=(28,28)),\n",
        "    tf.keras.layers.Dense(4, activation=\"relu\"),\n",
        "    tf.keras.layers.Dense(4, activation=\"relu\"),\n",
        "    tf.keras.layers.Dense(10, activation=\"softmax\")\n",
        "])\n",
        "#Compile model\n",
        "model_4.compile(loss=tf.keras.losses.SparseCategoricalCrossentropy(),\n",
        "                optimizer=tf.keras.optimizers.Adam(learning_rate=0.001),\n",
        "                metrics=[\"accuracy\"])\n",
        "#fit\n",
        "history4 = model_4.fit(train_images_norm, train_labels,epochs=25, validation_data=(test_images_norm,test_labels))"
      ],
      "metadata": {
        "colab": {
          "base_uri": "https://localhost:8080/"
        },
        "id": "AtvGipYKIIG1",
        "outputId": "a32585b5-2196-4929-e6e3-7b41aa3c8303"
      },
      "execution_count": 28,
      "outputs": [
        {
          "output_type": "stream",
          "name": "stdout",
          "text": [
            "Epoch 1/25\n",
            "1875/1875 [==============================] - 6s 3ms/step - loss: 1.0348 - accuracy: 0.6474 - val_loss: 0.6937 - val_accuracy: 0.7617\n",
            "Epoch 2/25\n",
            "1875/1875 [==============================] - 5s 2ms/step - loss: 0.6376 - accuracy: 0.7757 - val_loss: 0.6400 - val_accuracy: 0.7820\n",
            "Epoch 3/25\n",
            "1875/1875 [==============================] - 4s 2ms/step - loss: 0.5942 - accuracy: 0.7914 - val_loss: 0.6247 - val_accuracy: 0.7783\n",
            "Epoch 4/25\n",
            "1875/1875 [==============================] - 4s 2ms/step - loss: 0.5750 - accuracy: 0.7979 - val_loss: 0.6078 - val_accuracy: 0.7881\n",
            "Epoch 5/25\n",
            "1875/1875 [==============================] - 5s 2ms/step - loss: 0.5641 - accuracy: 0.8006 - val_loss: 0.6169 - val_accuracy: 0.7881\n",
            "Epoch 6/25\n",
            "1875/1875 [==============================] - 4s 2ms/step - loss: 0.5544 - accuracy: 0.8043 - val_loss: 0.5855 - val_accuracy: 0.7951\n",
            "Epoch 7/25\n",
            "1875/1875 [==============================] - 5s 2ms/step - loss: 0.5488 - accuracy: 0.8063 - val_loss: 0.6097 - val_accuracy: 0.7836\n",
            "Epoch 8/25\n",
            "1875/1875 [==============================] - 5s 2ms/step - loss: 0.5428 - accuracy: 0.8077 - val_loss: 0.5787 - val_accuracy: 0.7971\n",
            "Epoch 9/25\n",
            "1875/1875 [==============================] - 4s 2ms/step - loss: 0.5373 - accuracy: 0.8097 - val_loss: 0.5698 - val_accuracy: 0.7977\n",
            "Epoch 10/25\n",
            "1875/1875 [==============================] - 4s 2ms/step - loss: 0.5360 - accuracy: 0.8124 - val_loss: 0.5658 - val_accuracy: 0.8014\n",
            "Epoch 11/25\n",
            "1875/1875 [==============================] - 4s 2ms/step - loss: 0.5311 - accuracy: 0.8130 - val_loss: 0.5714 - val_accuracy: 0.8002\n",
            "Epoch 12/25\n",
            "1875/1875 [==============================] - 5s 2ms/step - loss: 0.5284 - accuracy: 0.8132 - val_loss: 0.5626 - val_accuracy: 0.8027\n",
            "Epoch 13/25\n",
            "1875/1875 [==============================] - 5s 2ms/step - loss: 0.5271 - accuracy: 0.8138 - val_loss: 0.5619 - val_accuracy: 0.8041\n",
            "Epoch 14/25\n",
            "1875/1875 [==============================] - 4s 2ms/step - loss: 0.5249 - accuracy: 0.8143 - val_loss: 0.5718 - val_accuracy: 0.7991\n",
            "Epoch 15/25\n",
            "1875/1875 [==============================] - 4s 2ms/step - loss: 0.5231 - accuracy: 0.8148 - val_loss: 0.5706 - val_accuracy: 0.8024\n",
            "Epoch 16/25\n",
            "1875/1875 [==============================] - 4s 2ms/step - loss: 0.5203 - accuracy: 0.8162 - val_loss: 0.5731 - val_accuracy: 0.8023\n",
            "Epoch 17/25\n",
            "1875/1875 [==============================] - 4s 2ms/step - loss: 0.5191 - accuracy: 0.8176 - val_loss: 0.5594 - val_accuracy: 0.8030\n",
            "Epoch 18/25\n",
            "1875/1875 [==============================] - 4s 2ms/step - loss: 0.5176 - accuracy: 0.8157 - val_loss: 0.5582 - val_accuracy: 0.8053\n",
            "Epoch 19/25\n",
            "1875/1875 [==============================] - 4s 2ms/step - loss: 0.5156 - accuracy: 0.8169 - val_loss: 0.5644 - val_accuracy: 0.8007\n",
            "Epoch 20/25\n",
            "1875/1875 [==============================] - 4s 2ms/step - loss: 0.5146 - accuracy: 0.8177 - val_loss: 0.5660 - val_accuracy: 0.8075\n",
            "Epoch 21/25\n",
            "1875/1875 [==============================] - 4s 2ms/step - loss: 0.5125 - accuracy: 0.8197 - val_loss: 0.5684 - val_accuracy: 0.8004\n",
            "Epoch 22/25\n",
            "1875/1875 [==============================] - 4s 2ms/step - loss: 0.5112 - accuracy: 0.8180 - val_loss: 0.5666 - val_accuracy: 0.8029\n",
            "Epoch 23/25\n",
            "1875/1875 [==============================] - 4s 2ms/step - loss: 0.5105 - accuracy: 0.8195 - val_loss: 0.5570 - val_accuracy: 0.8068\n",
            "Epoch 24/25\n",
            "1875/1875 [==============================] - 4s 2ms/step - loss: 0.5101 - accuracy: 0.8177 - val_loss: 0.5565 - val_accuracy: 0.8076\n",
            "Epoch 25/25\n",
            "1875/1875 [==============================] - 4s 2ms/step - loss: 0.5075 - accuracy: 0.8196 - val_loss: 0.5572 - val_accuracy: 0.8048\n"
          ]
        }
      ]
    },
    {
      "cell_type": "code",
      "source": [
        ""
      ],
      "metadata": {
        "id": "rTEbf5n-LofJ"
      },
      "execution_count": null,
      "outputs": []
    }
  ]
}